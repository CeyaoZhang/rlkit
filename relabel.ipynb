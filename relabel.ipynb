{
 "cells": [
  {
   "cell_type": "code",
   "execution_count": null,
   "metadata": {},
   "outputs": [],
   "source": [
    "import pickle\n",
    "import torch\n",
    "\n",
    "# para_dir = \"output/cheetah-dir/cheetah-dir_20220830030725-id1_seed100_srb/replay_buffer.pkl\"\n",
    "# para_dir = \"output/cheetah-dir/cheetah-dir_20220830030725-id1_seed100_srb/params.pkl\"\n",
    "# para_dir = \"output/cheetah-dir/cheetah-dir-20220908075447-id0_SAC_seed100_srb/params.pkl\"\n",
    "# para_dir = \"output/cheetah-dir/cheetah-dir-20220908070026-id0_SAC_seed100_srb/params.pkl\"\n",
    "# para_dir = 'output/cheetah-dir/cheetah-dir-20220908090822-id0_SAC_seed100_srb/param_cheetah-dir_id0.pkl'\n",
    "para_dir = 'output/cheetah-dir/cheetah-dir-20220908120409-id0_SAC_seed100_srb/params_epoch5_cheetah-dir-id0.pkl'\n",
    "# para_dir = \"output/cheetah-dir/cheetah-dir-20220908120730-id1_SAC_seed100_srb/params_epoch5_cheetah-dir-id1.pkl\"\n",
    "\n",
    "# with open(para_dir, 'rb') as tf:\n",
    "#     param = pickle.load(tf)\n",
    "\n",
    "param = torch.load(para_dir)\n",
    "print(type(param))\n",
    "print(param.keys())"
   ]
  },
  {
   "cell_type": "code",
   "execution_count": null,
   "metadata": {},
   "outputs": [],
   "source": [
    "env = param['evaluation/env']\n",
    "print(dir(env))\n",
    "print(dir(env._wrapped_env))"
   ]
  },
  {
   "cell_type": "code",
   "execution_count": null,
   "metadata": {},
   "outputs": [],
   "source": [
    "print(env._inixpos)\n",
    "print(env._wrapped_env._inixpos)\n",
    "\n",
    "print(env._idx)\n",
    "print(env._wrapped_env._idx)\n",
    "\n",
    "print(env._goal)\n",
    "print(env._wrapped_env._goal)"
   ]
  },
  {
   "cell_type": "code",
   "execution_count": null,
   "metadata": {},
   "outputs": [],
   "source": []
  },
  {
   "cell_type": "code",
   "execution_count": null,
   "metadata": {},
   "outputs": [],
   "source": [
    "# import pickle\n",
    "\n",
    "# buf_dir = \"output/cheetah-dir/cheetah-dir_20220830030725-id1_seed100_srb/replay_buffer.pkl\"\n",
    "\n",
    "# with open(buf_dir, 'rb') as tf:\n",
    "#     _buffer = pickle.load(tf)\n",
    "# buffer = _buffer.save\n",
    "\n",
    "# print(type(buffer))\n",
    "# print(isinstance(buffer, dict))\n",
    "# print(buffer.keys())\n",
    "# print(buffer['rewards'].shape)"
   ]
  },
  {
   "cell_type": "code",
   "execution_count": 7,
   "metadata": {},
   "outputs": [
    {
     "name": "stdout",
     "output_type": "stream",
     "text": [
      "<class 'dict'>\n",
      "True\n",
      "dict_keys(['observations', 'actions', 'rewards', 'terminals', 'next_observations'])\n",
      "(1002000, 1)\n"
     ]
    }
   ],
   "source": [
    "import numpy as np\n",
    "\n",
    "# buf_dir = \"output/cheetah-vel/cheetah-vel_SAC_id0-20220908144100_seed0_srb/buffers_cheetah-vel-id0.npy\"\n",
    "# buf_dir = \"output/cheetah-dir/cheetah-dir-20220908131353-id0_SAC_seed100_srb/buffers_cheetah-dir-id0.npy\"\n",
    "# buf_dir = \"output/cheetah-vel/cheetah-vel_TD3_id49_20220915031309_seed0_srb/buffers_cheetah-vel-id49.npy\"\n",
    "buf_dir = \"output/cheetah-vel/cheetah-vel_TD3_id64-20220908144956_seed0_srb/buffers_cheetah-vel-id64.npy\"\n",
    "\n",
    "buffers = np.load(buf_dir, allow_pickle='TRUE').item()\n",
    "print(type(buffers))\n",
    "print(isinstance(buffers, dict))\n",
    "print(buffers.keys())\n",
    "print(buffers['rewards'].shape)"
   ]
  },
  {
   "cell_type": "code",
   "execution_count": 9,
   "metadata": {},
   "outputs": [
    {
     "ename": "KeyError",
     "evalue": "'xposbefore'",
     "output_type": "error",
     "traceback": [
      "\u001b[0;31m---------------------------------------------------------------------------\u001b[0m",
      "\u001b[0;31mKeyError\u001b[0m                                  Traceback (most recent call last)",
      "\u001b[0;32m/tmp/ipykernel_1304/468855310.py\u001b[0m in \u001b[0;36m<module>\u001b[0;34m\u001b[0m\n\u001b[0;32m----> 1\u001b[0;31m \u001b[0mprint\u001b[0m\u001b[0;34m(\u001b[0m\u001b[0mbuffers\u001b[0m\u001b[0;34m[\u001b[0m\u001b[0;34m'xposbefore'\u001b[0m\u001b[0;34m]\u001b[0m\u001b[0;34m[\u001b[0m\u001b[0;34m:\u001b[0m\u001b[0;36m3\u001b[0m\u001b[0;34m]\u001b[0m\u001b[0;34m)\u001b[0m\u001b[0;34m\u001b[0m\u001b[0;34m\u001b[0m\u001b[0m\n\u001b[0m\u001b[1;32m      2\u001b[0m \u001b[0mprint\u001b[0m\u001b[0;34m(\u001b[0m\u001b[0mbuffers\u001b[0m\u001b[0;34m[\u001b[0m\u001b[0;34m'xposafter'\u001b[0m\u001b[0;34m]\u001b[0m\u001b[0;34m[\u001b[0m\u001b[0;34m:\u001b[0m\u001b[0;36m3\u001b[0m\u001b[0;34m]\u001b[0m\u001b[0;34m)\u001b[0m\u001b[0;34m\u001b[0m\u001b[0;34m\u001b[0m\u001b[0m\n\u001b[1;32m      3\u001b[0m \u001b[0;34m\u001b[0m\u001b[0m\n\u001b[1;32m      4\u001b[0m \u001b[0mprint\u001b[0m\u001b[0;34m(\u001b[0m\u001b[0mbuffers\u001b[0m\u001b[0;34m[\u001b[0m\u001b[0;34m'xposbefore'\u001b[0m\u001b[0;34m]\u001b[0m\u001b[0;34m[\u001b[0m\u001b[0;34m-\u001b[0m\u001b[0;36m3\u001b[0m\u001b[0;34m:\u001b[0m\u001b[0;34m]\u001b[0m\u001b[0;34m)\u001b[0m\u001b[0;34m\u001b[0m\u001b[0;34m\u001b[0m\u001b[0m\n\u001b[1;32m      5\u001b[0m \u001b[0mprint\u001b[0m\u001b[0;34m(\u001b[0m\u001b[0mbuffers\u001b[0m\u001b[0;34m[\u001b[0m\u001b[0;34m'xposafter'\u001b[0m\u001b[0;34m]\u001b[0m\u001b[0;34m[\u001b[0m\u001b[0;34m-\u001b[0m\u001b[0;36m3\u001b[0m\u001b[0;34m:\u001b[0m\u001b[0;34m]\u001b[0m\u001b[0;34m)\u001b[0m\u001b[0;34m\u001b[0m\u001b[0;34m\u001b[0m\u001b[0m\n",
      "\u001b[0;31mKeyError\u001b[0m: 'xposbefore'"
     ]
    }
   ],
   "source": [
    "# print(buffers['xposbefore'][:3])\n",
    "# print(buffers['xposafter'][:3])\n",
    "\n",
    "# print(buffers['xposbefore'][-3:])\n",
    "# print(buffers['xposafter'][-3:])"
   ]
  },
  {
   "cell_type": "code",
   "execution_count": null,
   "metadata": {},
   "outputs": [],
   "source": []
  },
  {
   "cell_type": "code",
   "execution_count": 11,
   "metadata": {},
   "outputs": [
    {
     "name": "stdout",
     "output_type": "stream",
     "text": [
      "[[-0.17634257]\n",
      " [-0.06774961]\n",
      " [-0.11238919]] [[-0.17846475]\n",
      " [-0.11970905]\n",
      " [-0.17753263]]\n",
      "====\n",
      "[[-0.17634256]\n",
      " [-0.06774961]\n",
      " [-0.1123892 ]] [[-0.17846478]\n",
      " [-0.11970906]\n",
      " [-0.17753264]]\n"
     ]
    }
   ],
   "source": [
    "print(buffers['reward_ctrl'][:3], buffers['reward_ctrl'][-3:])\n",
    "\n",
    "print('====')\n",
    "ctrl_cost = -0.5 * 1e-1 * np.sum(np.square(buffers['actions']), axis=1).reshape(-1,1)\n",
    "ctrl_cost.shape\n",
    "\n",
    "print(ctrl_cost[:3], ctrl_cost[-3:])"
   ]
  },
  {
   "cell_type": "code",
   "execution_count": null,
   "metadata": {},
   "outputs": [],
   "source": []
  },
  {
   "cell_type": "code",
   "execution_count": null,
   "metadata": {},
   "outputs": [],
   "source": []
  },
  {
   "cell_type": "code",
   "execution_count": null,
   "metadata": {},
   "outputs": [],
   "source": [
    "rewards = buffers['forward_vel']*-1 + buffers['reward_ctrl']\n",
    "rewards.shape"
   ]
  },
  {
   "cell_type": "code",
   "execution_count": null,
   "metadata": {},
   "outputs": [],
   "source": [
    "print(buffers['rewards'][:3])\n",
    "print(buffers['rewards'][-3:])"
   ]
  },
  {
   "cell_type": "code",
   "execution_count": null,
   "metadata": {},
   "outputs": [],
   "source": [
    "print(rewards[:3])\n",
    "print(rewards[-3:])"
   ]
  },
  {
   "cell_type": "code",
   "execution_count": null,
   "metadata": {},
   "outputs": [],
   "source": [
    "forward_vel = buffers['forward_vel']\n",
    "\n",
    "_forward_vel = (buffers['xposafter'] - buffers['xposbefore']) / 0.05\n",
    "_forward_vel.shape"
   ]
  },
  {
   "cell_type": "code",
   "execution_count": null,
   "metadata": {},
   "outputs": [],
   "source": [
    "print(_forward_vel[:3], forward_vel[:3])\n",
    "print('====')\n",
    "print(_forward_vel[-3:], forward_vel[-3:])"
   ]
  }
 ],
 "metadata": {
  "kernelspec": {
   "display_name": "Python 3.7.13 ('mujoco200')",
   "language": "python",
   "name": "python3"
  },
  "language_info": {
   "codemirror_mode": {
    "name": "ipython",
    "version": 3
   },
   "file_extension": ".py",
   "mimetype": "text/x-python",
   "name": "python",
   "nbconvert_exporter": "python",
   "pygments_lexer": "ipython3",
   "version": "3.7.13"
  },
  "orig_nbformat": 4,
  "vscode": {
   "interpreter": {
    "hash": "e4142f16ac7dc4c5bf679e68ae562a07507618cf8c8b3e3079e5279eb4b90879"
   }
  }
 },
 "nbformat": 4,
 "nbformat_minor": 2
}
