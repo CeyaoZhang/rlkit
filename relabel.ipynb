{
 "cells": [
  {
   "cell_type": "code",
   "execution_count": 1,
   "metadata": {},
   "outputs": [],
   "source": [
    "import pickle"
   ]
  },
  {
   "cell_type": "code",
   "execution_count": 2,
   "metadata": {},
   "outputs": [
    {
     "name": "stdout",
     "output_type": "stream",
     "text": [
      "<rlkit.data_management.env_replay_buffer.EnvReplayBuffer object at 0x7f1f41f530d0>\n"
     ]
    }
   ],
   "source": [
    "data_dir = \"output/cheetah-dir/cheetah-dir_20220830033314-id0_seed100_srb/replay_buffer.pkl\"\n",
    "\n",
    "with open(data_dir, 'rb') as f:\n",
    "    data_rb = pickle.load(f)\n",
    "print(data_rb)"
   ]
  },
  {
   "cell_type": "code",
   "execution_count": 4,
   "metadata": {},
   "outputs": [
    {
     "data": {
      "text/plain": [
       "[0, 1]"
      ]
     },
     "execution_count": 4,
     "metadata": {},
     "output_type": "execute_result"
    }
   ],
   "source": [
    "env = data_rb.env\n",
    "tasks = env.get_all_task_idx()\n",
    "tasks"
   ]
  },
  {
   "cell_type": "code",
   "execution_count": 5,
   "metadata": {},
   "outputs": [
    {
     "data": {
      "text/plain": [
       "[]"
      ]
     },
     "execution_count": 5,
     "metadata": {},
     "output_type": "execute_result"
    }
   ],
   "source": [
    "data_rb._env_info_keys"
   ]
  }
 ],
 "metadata": {
  "kernelspec": {
   "display_name": "Python 3.7.13 ('mujoco200')",
   "language": "python",
   "name": "python3"
  },
  "language_info": {
   "codemirror_mode": {
    "name": "ipython",
    "version": 3
   },
   "file_extension": ".py",
   "mimetype": "text/x-python",
   "name": "python",
   "nbconvert_exporter": "python",
   "pygments_lexer": "ipython3",
   "version": "3.7.13"
  },
  "orig_nbformat": 4,
  "vscode": {
   "interpreter": {
    "hash": "e4142f16ac7dc4c5bf679e68ae562a07507618cf8c8b3e3079e5279eb4b90879"
   }
  }
 },
 "nbformat": 4,
 "nbformat_minor": 2
}
