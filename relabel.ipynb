{
 "cells": [
  {
   "cell_type": "code",
   "execution_count": 1,
   "metadata": {},
   "outputs": [
    {
     "name": "stdout",
     "output_type": "stream",
     "text": [
      "<class 'dict'>\n",
      "dict_keys(['trainer/policy', 'trainer/qf1', 'trainer/qf2', 'trainer/target_qf1', 'trainer/target_qf2', 'exploration/policy', 'exploration/env', 'evaluation/policy', 'evaluation/env'])\n"
     ]
    }
   ],
   "source": [
    "import pickle\n",
    "import torch\n",
    "\n",
    "# para_dir = \"output/cheetah-dir/cheetah-dir_20220830030725-id1_seed100_srb/replay_buffer.pkl\"\n",
    "# para_dir = \"output/cheetah-dir/cheetah-dir_20220830030725-id1_seed100_srb/params.pkl\"\n",
    "# para_dir = \"output/cheetah-dir/cheetah-dir-20220908075447-id0_SAC_seed100_srb/params.pkl\"\n",
    "# para_dir = \"output/cheetah-dir/cheetah-dir-20220908070026-id0_SAC_seed100_srb/params.pkl\"\n",
    "# para_dir = 'output/cheetah-dir/cheetah-dir-20220908090822-id0_SAC_seed100_srb/param_cheetah-dir_id0.pkl'\n",
    "para_dir = 'output/cheetah-dir/cheetah-dir-20220908120409-id0_SAC_seed100_srb/params_epoch5_cheetah-dir-id0.pkl'\n",
    "# para_dir = \"output/cheetah-dir/cheetah-dir-20220908120730-id1_SAC_seed100_srb/params_epoch5_cheetah-dir-id1.pkl\"\n",
    "\n",
    "# with open(para_dir, 'rb') as tf:\n",
    "#     param = pickle.load(tf)\n",
    "\n",
    "param = torch.load(para_dir)\n",
    "print(type(param))\n",
    "print(param.keys())"
   ]
  },
  {
   "cell_type": "code",
   "execution_count": 2,
   "metadata": {},
   "outputs": [
    {
     "name": "stdout",
     "output_type": "stream",
     "text": [
      "['__class__', '__delattr__', '__dict__', '__dir__', '__doc__', '__enter__', '__eq__', '__exit__', '__format__', '__ge__', '__getattr__', '__getattribute__', '__getstate__', '__gt__', '__hash__', '__init__', '__init_subclass__', '__le__', '__lt__', '__module__', '__ne__', '__new__', '__reduce__', '__reduce_ex__', '__repr__', '__setattr__', '__setstate__', '__sizeof__', '__str__', '__subclasshook__', '__weakref__', '_apply_normalize_obs', '_obs_mean', '_obs_std', '_reward_scale', '_should_normalize', '_wrapped_env', 'action_space', 'close', 'estimate_obs_stats', 'horizon', 'metadata', 'observation_space', 'render', 'reset', 'reward_range', 'seed', 'spec', 'step', 'terminate', 'unwrapped', 'wrapped_env']\n",
      "['__class__', '__delattr__', '__dict__', '__dir__', '__doc__', '__enter__', '__eq__', '__exit__', '__format__', '__ge__', '__getattribute__', '__getstate__', '__gt__', '__hash__', '__init__', '__init_subclass__', '__le__', '__lt__', '__module__', '__ne__', '__new__', '__reduce__', '__reduce_ex__', '__repr__', '__setattr__', '__setstate__', '__sizeof__', '__str__', '__subclasshook__', '__weakref__', '_ezpickle_args', '_ezpickle_kwargs', '_get_obs', '_get_viewer', '_goal', '_goal_dir', '_idx', '_inixpos', '_name', '_task', '_viewers', 'action_space', 'close', 'data', 'do_simulation', 'dt', 'frame_skip', 'get_all_task_idx', 'get_body_com', 'init_qpos', 'init_qvel', 'metadata', 'model', 'np_random', 'obs_dim', 'observation_space', 'render', 'reset', 'reset_model', 'reset_task', 'reward_range', 'rgb_rendering_tracking', 'sample_tasks', 'seed', 'set_state', 'sim', 'spec', 'state_vector', 'step', 'tasks', 'unwrapped', 'viewer', 'viewer_setup']\n"
     ]
    }
   ],
   "source": [
    "env = param['evaluation/env']\n",
    "print(dir(env))\n",
    "print(dir(env._wrapped_env))"
   ]
  },
  {
   "cell_type": "code",
   "execution_count": 3,
   "metadata": {},
   "outputs": [
    {
     "name": "stdout",
     "output_type": "stream",
     "text": [
      "0\n",
      "0\n",
      "0\n",
      "0\n",
      "1\n",
      "1\n"
     ]
    }
   ],
   "source": [
    "print(env._inixpos)\n",
    "print(env._wrapped_env._inixpos)\n",
    "\n",
    "print(env._idx)\n",
    "print(env._wrapped_env._idx)\n",
    "\n",
    "print(env._goal)\n",
    "print(env._wrapped_env._goal)"
   ]
  },
  {
   "cell_type": "code",
   "execution_count": null,
   "metadata": {},
   "outputs": [],
   "source": []
  },
  {
   "cell_type": "code",
   "execution_count": 9,
   "metadata": {},
   "outputs": [
    {
     "name": "stdout",
     "output_type": "stream",
     "text": [
      "<class 'dict'>\n",
      "True\n",
      "dict_keys(['observations', 'actions', 'rewards', 'terminals', 'next_observations', 'forward_vel', 'reward_ctrl', 'xposbefore', 'xposafter'])\n",
      "(8000, 1)\n"
     ]
    }
   ],
   "source": [
    "import numpy as np\n",
    "\n",
    "# buf_dir = \"output/cheetah-dir/cheetah-dir-20220908075447-id0_SAC_seed100_srb/buffer_cheetah-dir_id0.npy\"\n",
    "buf_dir = \"output/cheetah-dir/cheetah-dir-20220908120730-id1_SAC_seed100_srb/buffers_cheetah-dir-id1.npy\"\n",
    "\n",
    "buffers = np.load(buf_dir, allow_pickle='TRUE').item()\n",
    "print(type(buffers))\n",
    "print(isinstance(buffers, dict))\n",
    "print(buffers.keys())\n",
    "print(buffers['rewards'].shape)"
   ]
  },
  {
   "cell_type": "code",
   "execution_count": null,
   "metadata": {},
   "outputs": [],
   "source": [
    "print(buffers['xposbefore'][:3])\n",
    "print(buffers['xposafter'][:3])"
   ]
  },
  {
   "cell_type": "code",
   "execution_count": null,
   "metadata": {},
   "outputs": [],
   "source": [
    "print(buffers['xposbefore'][-3:])\n",
    "print(buffers['xposafter'][-3:])"
   ]
  },
  {
   "cell_type": "code",
   "execution_count": null,
   "metadata": {},
   "outputs": [],
   "source": [
    "print(buffers['reward_ctrl'][:3])\n",
    "print(buffers['reward_ctrl'][-3:])"
   ]
  },
  {
   "cell_type": "code",
   "execution_count": 5,
   "metadata": {},
   "outputs": [
    {
     "data": {
      "text/plain": [
       "(8000, 1)"
      ]
     },
     "execution_count": 5,
     "metadata": {},
     "output_type": "execute_result"
    }
   ],
   "source": [
    "ctrl_cost = -0.5 * 1e-1 * np.sum(np.square(buffers['actions']), axis=1).reshape(-1,1)\n",
    "ctrl_cost.shape"
   ]
  },
  {
   "cell_type": "code",
   "execution_count": null,
   "metadata": {},
   "outputs": [],
   "source": [
    "print(ctrl_cost[:3])\n",
    "print(ctrl_cost[-3:])"
   ]
  },
  {
   "cell_type": "code",
   "execution_count": 6,
   "metadata": {},
   "outputs": [
    {
     "data": {
      "text/plain": [
       "(8000, 1)"
      ]
     },
     "execution_count": 6,
     "metadata": {},
     "output_type": "execute_result"
    }
   ],
   "source": [
    "rewards = buffers['forward_vel']*-1 + buffers['reward_ctrl']\n",
    "rewards.shape"
   ]
  },
  {
   "cell_type": "code",
   "execution_count": 7,
   "metadata": {},
   "outputs": [
    {
     "name": "stdout",
     "output_type": "stream",
     "text": [
      "[[-0.21247011]\n",
      " [-0.36463522]\n",
      " [-0.68507225]]\n",
      "[[ 0.23133253]\n",
      " [-0.04410894]\n",
      " [ 0.02671548]]\n"
     ]
    }
   ],
   "source": [
    "print(buffers['rewards'][:3])\n",
    "print(buffers['rewards'][-3:])"
   ]
  },
  {
   "cell_type": "code",
   "execution_count": 8,
   "metadata": {},
   "outputs": [
    {
     "name": "stdout",
     "output_type": "stream",
     "text": [
      "[[-0.14020538]\n",
      " [ 0.2291146 ]\n",
      " [ 0.46031229]]\n",
      "[[-0.40673961]\n",
      " [-0.18087234]\n",
      " [-0.28673092]]\n"
     ]
    }
   ],
   "source": [
    "print(rewards[:3])\n",
    "print(rewards[-3:])"
   ]
  },
  {
   "cell_type": "code",
   "execution_count": 12,
   "metadata": {},
   "outputs": [
    {
     "data": {
      "text/plain": [
       "(8000, 1)"
      ]
     },
     "execution_count": 12,
     "metadata": {},
     "output_type": "execute_result"
    }
   ],
   "source": [
    "forward_vel = buffers['forward_vel']\n",
    "\n",
    "_forward_vel = (buffers['xposafter'] - buffers['xposbefore']) / 0.05\n",
    "_forward_vel.shape"
   ]
  },
  {
   "cell_type": "code",
   "execution_count": 13,
   "metadata": {},
   "outputs": [
    {
     "name": "stdout",
     "output_type": "stream",
     "text": [
      "[[-0.03613236]\n",
      " [-0.29687491]\n",
      " [-0.57269227]] [[-0.03613236]\n",
      " [-0.29687491]\n",
      " [-0.57269227]]\n",
      "====\n",
      "[[0.31903607]\n",
      " [0.0683817 ]\n",
      " [0.1567232 ]] [[0.31903607]\n",
      " [0.0683817 ]\n",
      " [0.1567232 ]]\n"
     ]
    }
   ],
   "source": [
    "print(_forward_vel[:3], forward_vel[:3])\n",
    "print('====')\n",
    "print(_forward_vel[-3:], forward_vel[-3:])"
   ]
  }
 ],
 "metadata": {
  "kernelspec": {
   "display_name": "Python 3.7.13 ('mujoco200')",
   "language": "python",
   "name": "python3"
  },
  "language_info": {
   "codemirror_mode": {
    "name": "ipython",
    "version": 3
   },
   "file_extension": ".py",
   "mimetype": "text/x-python",
   "name": "python",
   "nbconvert_exporter": "python",
   "pygments_lexer": "ipython3",
   "version": "3.7.13"
  },
  "orig_nbformat": 4,
  "vscode": {
   "interpreter": {
    "hash": "e4142f16ac7dc4c5bf679e68ae562a07507618cf8c8b3e3079e5279eb4b90879"
   }
  }
 },
 "nbformat": 4,
 "nbformat_minor": 2
}
